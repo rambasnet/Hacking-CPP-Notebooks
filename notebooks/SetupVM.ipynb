{
 "cells": [
  {
   "cell_type": "markdown",
   "metadata": {},
   "source": [
    "# Setup Hacking VM\n",
    "\n",
    "- install virtualization tool\n",
    "    - VirtualBox (http://www.virtualbox.org)\n",
    "    - VMWare (https://www.vmware.com)\n",
    "    - either one is fine; depending on your system VMWare may not be free!\n",
    "    \n",
    "- download pre-built virtual images of Kali Linux: https://www.offensive-security.com/kali-linux-vm-vmware-virtualbox-image-download/\n",
    "- can download either 64-bit or 32-bit (64-bit is recommended)\n",
    "- if you can provide more than 4 GB of memory (>=50% of total memory your system has) to your virtual machine, you should download 64-bit"
   ]
  },
  {
   "cell_type": "code",
   "execution_count": 1,
   "metadata": {},
   "outputs": [
    {
     "name": "stdout",
     "output_type": "stream",
     "text": [
      "Linux kali 5.7.0-kali1-amd64 #1 SMP Debian 5.7.6-1kali2 (2020-07-01) x86_64 GNU/Linux\n"
     ]
    }
   ],
   "source": [
    "%%bash\n",
    "# check machine architecture\n",
    "uname -a"
   ]
  },
  {
   "cell_type": "code",
   "execution_count": 4,
   "metadata": {},
   "outputs": [
    {
     "name": "stdout",
     "output_type": "stream",
     "text": [
      "Hit:1 http://dl.google.com/linux/chrome/deb stable InRelease                   \u001b[0m\n",
      "Get:2 https://packages.microsoft.com/repos/vscode stable InRelease [3,958 B]   \u001b[0m\u001b[33m\n",
      "Get:4 https://packages.microsoft.com/repos/vscode stable/main amd64 Packages [215 kB][33m\n",
      "Get:3 http://kali.download/kali kali-rolling InRelease [30.5 kB]\n",
      "Get:5 http://kali.download/kali kali-rolling/main amd64 Packages [17.0 MB]\n",
      "Get:6 http://kali.download/kali kali-rolling/contrib amd64 Packages [104 kB]\n",
      "Get:7 http://kali.download/kali kali-rolling/non-free amd64 Packages [200 kB]\n",
      "Fetched 17.5 MB in 4s (4,090 kB/s)m                       \u001b[0m\u001b[33m\u001b[33m\u001b[33m\n",
      "Reading package lists... Done\n",
      "Building dependency tree       \n",
      "Reading state information... Done\n",
      "921 packages can be upgraded. Run 'apt list --upgradable' to see them.\n"
     ]
    }
   ],
   "source": [
    "! echo kali | sudo -S apt update"
   ]
  },
  {
   "cell_type": "markdown",
   "metadata": {},
   "source": [
    "## Compilers and Libraries required\n",
    "- GCC for compiling C code\n",
    "- most system programs are written in C language\n",
    "- G++ for compiling C++ code\n",
    "- C++ is built on C and C libraries can be readily used in C++\n",
    "- we'll rely heavily on C++ with essential C libraries and functions for writing vulnerable programs\n",
    "- both compilers and necessary build tools can be installed by installing **build-essential** package\n",
    "- https://packages.ubuntu.com/xenial/build-essential\n",
    "- multilib library to compile x86 programs in x64-bit OS\n",
    "- we'll use C++ code with the mix of some C code especially to demonstrate various vulnerabilities"
   ]
  },
  {
   "cell_type": "code",
   "execution_count": 2,
   "metadata": {},
   "outputs": [
    {
     "name": "stdout",
     "output_type": "stream",
     "text": [
      "Reading package lists...\n",
      "Building dependency tree...\n",
      "Reading state information...\n",
      "build-essential is already the newest version (12.8).\n",
      "The following packages were automatically installed and are no longer required:\n",
      "  libcdio18 libmpdec2 libprotobuf22 libx264-155 libx264-159\n",
      "Use 'sudo apt autoremove' to remove them.\n",
      "The following additional packages will be installed:\n",
      "  libcurl4 libdebuginfod1 libdw1 libelf1 libnsl2 libpython3.9\n",
      "  libpython3.9-minimal libpython3.9-stdlib\n",
      "Suggested packages:\n",
      "  distcc | icecc gdb-doc gdbserver\n",
      "The following NEW packages will be installed:\n",
      "  libdebuginfod1 libnsl2 libpython3.9 libpython3.9-minimal libpython3.9-stdlib\n",
      "The following packages will be upgraded:\n",
      "  ccache curl gdb libcurl4 libdw1 libelf1\n",
      "6 upgraded, 5 newly installed, 0 to remove and 906 not upgraded.\n",
      "Need to get 9,201 kB of archives.\n",
      "After this operation, 20.2 MB of additional disk space will be used.\n",
      "Get:1 http://kali.download/kali kali-rolling/main amd64 ccache amd64 4.1-1 [420 kB]\n",
      "Get:2 http://kali.download/kali kali-rolling/main amd64 curl amd64 7.72.0-1 [264 kB]\n",
      "Get:3 http://kali.download/kali kali-rolling/main amd64 libcurl4 amd64 7.72.0-1 [336 kB]\n",
      "Get:4 http://kali.download/kali kali-rolling/main amd64 libdw1 amd64 0.182-1 [234 kB]\n",
      "Get:5 http://kali.download/kali kali-rolling/main amd64 libelf1 amd64 0.182-1 [166 kB]\n",
      "Get:6 http://kali.download/kali kali-rolling/main amd64 libdebuginfod1 amd64 0.182-1 [25.4 kB]\n",
      "Get:7 http://kali.download/kali kali-rolling/main amd64 libpython3.9-minimal amd64 3.9.0-5 [797 kB]\n",
      "Get:8 http://kali.download/kali kali-rolling/main amd64 libnsl2 amd64 1.3.0-2 [39.5 kB]\n",
      "Get:9 http://kali.download/kali kali-rolling/main amd64 libpython3.9-stdlib amd64 3.9.0-5 [1,750 kB]\n",
      "Get:10 http://kali.download/kali kali-rolling/main amd64 libpython3.9 amd64 3.9.0-5 [1,688 kB]\n",
      "Get:11 http://kali.download/kali kali-rolling/main amd64 gdb amd64 10.1-1+b1 [3,481 kB]\n",
      "Fetched 9,201 kB in 3s (3,065 kB/s)\n",
      "(Reading database ... 263493 files and directories currently installed.)\n",
      "Preparing to unpack .../00-ccache_4.1-1_amd64.deb ...\n",
      "Unpacking ccache (4.1-1) over (3.7.11-1) ...\n",
      "Preparing to unpack .../01-curl_7.72.0-1_amd64.deb ...\n",
      "Unpacking curl (7.72.0-1) over (7.68.0-1+b1) ...\n",
      "Preparing to unpack .../02-libcurl4_7.72.0-1_amd64.deb ...\n",
      "Unpacking libcurl4:amd64 (7.72.0-1) over (7.68.0-1+b1) ...\n",
      "Preparing to unpack .../03-libdw1_0.182-1_amd64.deb ...\n",
      "Unpacking libdw1:amd64 (0.182-1) over (0.180-1+b1) ...\n",
      "Preparing to unpack .../04-libelf1_0.182-1_amd64.deb ...\n",
      "Unpacking libelf1:amd64 (0.182-1) over (0.180-1+b1) ...\n",
      "Selecting previously unselected package libdebuginfod1:amd64.\n",
      "Preparing to unpack .../05-libdebuginfod1_0.182-1_amd64.deb ...\n",
      "Unpacking libdebuginfod1:amd64 (0.182-1) ...\n",
      "Selecting previously unselected package libpython3.9-minimal:amd64.\n",
      "Preparing to unpack .../06-libpython3.9-minimal_3.9.0-5_amd64.deb ...\n",
      "Unpacking libpython3.9-minimal:amd64 (3.9.0-5) ...\n",
      "Selecting previously unselected package libnsl2:amd64.\n",
      "Preparing to unpack .../07-libnsl2_1.3.0-2_amd64.deb ...\n",
      "Unpacking libnsl2:amd64 (1.3.0-2) ...\n",
      "Selecting previously unselected package libpython3.9-stdlib:amd64.\n",
      "Preparing to unpack .../08-libpython3.9-stdlib_3.9.0-5_amd64.deb ...\n",
      "Unpacking libpython3.9-stdlib:amd64 (3.9.0-5) ...\n",
      "Selecting previously unselected package libpython3.9:amd64.\n",
      "Preparing to unpack .../09-libpython3.9_3.9.0-5_amd64.deb ...\n",
      "Unpacking libpython3.9:amd64 (3.9.0-5) ...\n",
      "Preparing to unpack .../10-gdb_10.1-1+b1_amd64.deb ...\n",
      "Unpacking gdb (10.1-1+b1) over (9.2-1) ...\n",
      "Setting up libpython3.9-minimal:amd64 (3.9.0-5) ...\n",
      "Setting up ccache (4.1-1) ...\n",
      "Updating symlinks in /usr/lib/ccache ...\n",
      "Setting up libnsl2:amd64 (1.3.0-2) ...\n",
      "Setting up libcurl4:amd64 (7.72.0-1) ...\n",
      "Setting up curl (7.72.0-1) ...\n",
      "Setting up libelf1:amd64 (0.182-1) ...\n",
      "Setting up libpython3.9-stdlib:amd64 (3.9.0-5) ...\n",
      "Setting up libdw1:amd64 (0.182-1) ...\n",
      "Setting up libdebuginfod1:amd64 (0.182-1) ...\n",
      "Setting up libpython3.9:amd64 (3.9.0-5) ...\n",
      "Setting up gdb (10.1-1+b1) ...\n",
      "Processing triggers for libc-bin (2.31-2) ...\n",
      "Processing triggers for man-db (2.9.3-2) ...\n",
      "Processing triggers for kali-menu (2020.3.2) ...\n"
     ]
    },
    {
     "name": "stderr",
     "output_type": "stream",
     "text": [
      "[sudo] password for kali: \n",
      "WARNING: apt does not have a stable CLI interface. Use with caution in scripts.\n",
      "\n",
      "dpkg-preconfigure: unable to re-open stdin: No such file or directory\n"
     ]
    }
   ],
   "source": [
    "%%bash\n",
    "echo kali | sudo -S apt install -y curl build-essential ccache gdb"
   ]
  },
  {
   "cell_type": "markdown",
   "metadata": {},
   "source": [
    "## Install multilib for gcc and g++ \n",
    "- to be able to compile for 32 bit (x86) machine if using x64 (64 bit machine)"
   ]
  },
  {
   "cell_type": "code",
   "execution_count": 3,
   "metadata": {},
   "outputs": [
    {
     "name": "stdout",
     "output_type": "stream",
     "text": [
      "Reading package lists...\n",
      "Building dependency tree...\n",
      "Reading state information...\n",
      "g++-multilib is already the newest version (4:10.2.0-1).\n",
      "gcc-multilib is already the newest version (4:10.2.0-1).\n",
      "The following packages were automatically installed and are no longer required:\n",
      "  libcdio18 libmpdec2 libprotobuf22 libx264-155 libx264-159\n",
      "Use 'sudo apt autoremove' to remove them.\n",
      "0 upgraded, 0 newly installed, 0 to remove and 906 not upgraded.\n"
     ]
    },
    {
     "name": "stderr",
     "output_type": "stream",
     "text": [
      "[sudo] password for kali: \n",
      "WARNING: apt does not have a stable CLI interface. Use with caution in scripts.\n",
      "\n"
     ]
    }
   ],
   "source": [
    "%%bash\n",
    "# do this only if you have x64 Linux VM\n",
    "echo kali | sudo -S apt install -y gcc-multilib g++-multilib"
   ]
  },
  {
   "cell_type": "markdown",
   "metadata": {},
   "source": [
    "## Compiling with gcc/g++ as 32-bit program in 64-bit system\n",
    "- use -m32 switch with gcc and g++\n",
    "```bash\n",
    "gcc -m32 -o output input.c\n",
    "g++ -m32 -o output input.cpp\n",
    "```"
   ]
  },
  {
   "cell_type": "code",
   "execution_count": 2,
   "metadata": {},
   "outputs": [
    {
     "name": "stdout",
     "output_type": "stream",
     "text": [
      "#include <iostream>\n",
      "\n",
      "using namespace std;\n",
      "\n",
      "int main()\n",
      "{\n",
      "    cout << \"Hello World!\" << endl;\n",
      "    return 0;\n",
      "}"
     ]
    }
   ],
   "source": [
    "! cat ../demos/hello.cpp"
   ]
  },
  {
   "cell_type": "code",
   "execution_count": 4,
   "metadata": {},
   "outputs": [],
   "source": [
    "! g++ -g -m32 -o hello ../demos/hello.cpp"
   ]
  },
  {
   "cell_type": "code",
   "execution_count": null,
   "metadata": {},
   "outputs": [],
   "source": [
    "! g++ -g -m64 -o hello64 ../demos/hello.cpp"
   ]
  },
  {
   "cell_type": "markdown",
   "metadata": {},
   "source": [
    "## Install and configure PEDA\n",
    "- PEDA: Python Exploit Development Assistance for GDB\n",
    "- https://github.com/longld/peda\n"
   ]
  },
  {
   "cell_type": "code",
<<<<<<< Updated upstream
<<<<<<< Updated upstream
   "execution_count": 3,
=======
   "execution_count": 1,
>>>>>>> Stashed changes
=======
   "execution_count": 1,
>>>>>>> Stashed changes
   "metadata": {},
   "outputs": [
    {
     "name": "stderr",
     "output_type": "stream",
     "text": [
<<<<<<< Updated upstream
<<<<<<< Updated upstream
      "Cloning into '/home/kali/peda'...\n"
=======
      "Cloning into '/home/codespace/peda'...\n"
>>>>>>> Stashed changes
=======
      "Cloning into '/home/codespace/peda'...\n"
>>>>>>> Stashed changes
     ]
    },
    {
     "name": "stdout",
     "output_type": "stream",
     "text": [
      "Finished downloading peda and configuring gdb!\n"
     ]
    }
   ],
   "source": [
    "%%bash\n",
    "dirPath=~/peda \n",
    "if [ -d \"$dirPath\" ] # if peda directory exists in user's home directory\n",
    "then\n",
    "    echo \"Directory $dirPath exists... Peda was already downloaded!\";\n",
    "    exit 0;\n",
    "else\n",
    "    git clone https://github.com/longld/peda.git $dirPath\n",
    "    if [ $? == 0 ]; # if the last command successfuly executed\n",
    "    then\n",
    "        echo \"source $dirPath/peda.py\" >> ~/.gdbinit;\n",
    "        echo \"Finished downloading peda and configuring gdb!\";\n",
    "        exit 0;\n",
    "    else\n",
    "        echo \"failed cloning peda\"\n",
    "        exit 1;\n",
    "    fi\n",
    "fi"
   ]
  },
  {
   "cell_type": "code",
   "execution_count": null,
   "metadata": {},
   "outputs": [],
   "source": []
  }
 ],
 "metadata": {
  "kernelspec": {
   "display_name": "Python 3 (ipykernel)",
   "language": "python",
   "name": "python3"
  },
  "language_info": {
   "codemirror_mode": {
    "name": "ipython",
    "version": 3
   },
   "file_extension": ".py",
   "mimetype": "text/x-python",
   "name": "python",
   "nbconvert_exporter": "python",
   "pygments_lexer": "ipython3",
   "version": "3.12.2"
  }
 },
 "nbformat": 4,
 "nbformat_minor": 4
}
