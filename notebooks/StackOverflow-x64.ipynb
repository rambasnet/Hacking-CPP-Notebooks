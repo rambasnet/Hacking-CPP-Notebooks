{
 "cells": [
  {
   "cell_type": "code",
   "execution_count": 1,
   "id": "d95df66d-3db2-4f2d-85da-09652b9bc0ff",
   "metadata": {},
   "outputs": [
    {
     "data": {
      "text/plain": [
       "'/home/kali/projects/SoftwareSecurity/notebooks'"
      ]
     },
     "execution_count": 1,
     "metadata": {},
     "output_type": "execute_result"
    }
   ],
   "source": [
    "%pwd"
   ]
  },
  {
   "cell_type": "code",
   "execution_count": 2,
   "id": "4218f96e-a353-4771-a34e-8c778e8ba6b3",
   "metadata": {},
   "outputs": [
    {
     "name": "stdout",
     "output_type": "stream",
     "text": [
      "/home/kali/projects/SoftwareSecurity/demos/stack_overflow/x64\n"
     ]
    }
   ],
   "source": [
    "%cd ../demos/stack_overflow/x64/"
   ]
  },
  {
   "cell_type": "code",
   "execution_count": 3,
   "id": "67bb205f-3d0b-4ed2-97f2-0e0d7b5b5e2a",
   "metadata": {},
   "outputs": [
    {
     "data": {
      "text/plain": [
       "'/home/kali/projects/SoftwareSecurity/demos/stack_overflow/x64'"
      ]
     },
     "execution_count": 3,
     "metadata": {},
     "output_type": "execute_result"
    }
   ],
   "source": [
    "%pwd"
   ]
  },
  {
   "cell_type": "code",
   "execution_count": 4,
   "id": "4a86d3a1-9ca0-474b-a20c-dd5e2f2fb1ea",
   "metadata": {},
   "outputs": [
    {
     "name": "stdout",
     "output_type": "stream",
     "text": [
      "a.out  bad.txt\tgood.txt  stack.cpp  stack_gdb\n"
     ]
    }
   ],
   "source": [
    "! ls"
   ]
  },
  {
   "cell_type": "code",
   "execution_count": 5,
   "id": "af6b3b2a-cd0b-413a-a4a5-5eea0e6dccb0",
   "metadata": {},
   "outputs": [
    {
     "name": "stdout",
     "output_type": "stream",
     "text": [
      "#include <cstdlib>\n",
      "#include <iostream>\n",
      "#include <cstring>\n",
      "#include <fstream>\n",
      "#include <string>\n",
      "\n",
      "using namespace std;\n",
      "\n",
      "const int MAX_DATA = 200;\n",
      "\n",
      "void vulnerable(char *str) {\n",
      "\tchar buffer[100];\n",
      "\tstrcpy(buffer, str);\n",
      "\tcout << buffer << endl;\n",
      "}\n",
      "\n",
      "int main(int argc, char *argv[]) {\n",
      "\tchar data[MAX_DATA];\n",
      "\t//file_name = strcpy(file_name, argv[1]\n",
      "\tFILE *fin;\n",
      "\tfin = fopen(argv[1], \"r\");\n",
      "\tfread(data, sizeof(char), MAX_DATA, fin);\n",
      "\tvulnerable(data);\n",
      "\tcout << \"All done...\" << endl;\n",
      "\treturn 0;\n",
      "}\n",
      "\n"
     ]
    }
   ],
   "source": [
    "! cat stack.cpp"
   ]
  },
  {
   "cell_type": "code",
   "execution_count": 6,
   "id": "27147f06-9b24-40c5-b065-aaae6bc0d619",
   "metadata": {},
   "outputs": [
    {
     "name": "stdout",
     "output_type": "stream",
     "text": [
      "g++ -g -Wall -std=c++17 -fno-stack-protector -z execstack -no-pie stack.cpp  -o stack.exe \n",
      "# must run make with sudo to disable randomaize_va_space\n",
      "echo 0 | tee /proc/sys/kernel/randomize_va_space\n",
      "tee: /proc/sys/kernel/randomize_va_space: Permission denied\n",
      "0\n",
      "make: *** [Makefile:24: build] Error 1\n"
     ]
    }
   ],
   "source": [
    "! make"
   ]
  },
  {
   "cell_type": "code",
   "execution_count": 7,
   "id": "151d175f-e25d-4fb4-8256-2ad65bf6e1c6",
   "metadata": {},
   "outputs": [
    {
     "name": "stdout",
     "output_type": "stream",
     "text": [
      "[sudo] password for kali: g++ -g -Wall -std=c++17 -fno-stack-protector -z execstack -no-pie stack.cpp  -o stack.exe \n",
      "# must run make with sudo to disable randomaize_va_space\n",
      "echo 0 | tee /proc/sys/kernel/randomize_va_space\n",
      "0\n",
      "sudo chown root:root stack.exe \n",
      "sudo chmod +s stack.exe  \n"
     ]
    }
   ],
   "source": [
    "! echo kali | sudo -S make"
   ]
  },
  {
   "cell_type": "code",
   "execution_count": null,
   "id": "16053e41-ab7b-4248-a02a-ed45f5fcb1b1",
   "metadata": {},
   "outputs": [],
   "source": []
  }
 ],
 "metadata": {
  "kernelspec": {
   "display_name": "Python 3 (ipykernel)",
   "language": "python",
   "name": "python3"
  },
  "language_info": {
   "codemirror_mode": {
    "name": "ipython",
    "version": 3
   },
   "file_extension": ".py",
   "mimetype": "text/x-python",
   "name": "python",
   "nbconvert_exporter": "python",
   "pygments_lexer": "ipython3",
   "version": "3.12.2"
  }
 },
 "nbformat": 4,
 "nbformat_minor": 5
}
